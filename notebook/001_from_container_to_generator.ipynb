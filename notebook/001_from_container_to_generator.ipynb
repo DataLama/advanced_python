{
 "cells": [
  {
   "cell_type": "markdown",
   "metadata": {},
   "source": [
    "# From Container to Generator"
   ]
  },
  {
   "cell_type": "markdown",
   "metadata": {},
   "source": [
    "<img src='https://mingrammer.com/images/2017-01-25-iter-vs-gen-relationships.png'>"
   ]
  },
  {
   "cell_type": "markdown",
   "metadata": {},
   "source": [
    "---"
   ]
  },
  {
   "cell_type": "markdown",
   "metadata": {},
   "source": [
    "## Container\n",
    "- 컨테이너는 원소들을 갖고 있는 데이터 구조.\n",
    "\n",
    "- 보통 모든 원소값은 메모리에 가지고 있음.\n",
    "\n",
    "- 맴버쉽 테스트를 지원함.\n",
    "    - special method `__contains__`를 갖고 있는 객체\n",
    "\n",
    "- 컨테이너는 다양한 방식으로 만들 수 있지만, 가장 pythonic하게 만드는 방법은 comprehension을 사용하는 것이다.\n",
    "\n",
    "- 어떤 컨테이너는 iterable하다.\n",
    "    - 컨테이너인데 iterable하지 않은 자료형 e.g.) [Bloom_filter](https://en.wikipedia.org/wiki/Bloom_filter)"
   ]
  },
  {
   "cell_type": "markdown",
   "metadata": {},
   "source": [
    "## iterable"
   ]
  },
  {
   "cell_type": "markdown",
   "metadata": {},
   "source": [
    "## iterator"
   ]
  },
  {
   "cell_type": "markdown",
   "metadata": {},
   "source": [
    "## Generator"
   ]
  },
  {
   "cell_type": "markdown",
   "metadata": {},
   "source": [
    "- 정확하게 generator와 iterator의 차이를 어떻게 설명할까?"
   ]
  },
  {
   "cell_type": "markdown",
   "metadata": {},
   "source": [
    "---"
   ]
  },
  {
   "cell_type": "markdown",
   "metadata": {},
   "source": [
    "## Reference\n",
    "- https://nvie.com/posts/iterators-vs-generators/\n",
    "- https://www.amazon.com/Fluent-Python-Concise-Effective-Programming/dp/1491946008\n",
    "- https://www.amazon.com/Effective-Python-Specific-Software-Development/dp/0134034287/ref=rtpb_3/135-3226335-0011736?_encoding=UTF8&pd_rd_i=0134034287&pd_rd_r=d4de0d90-6d83-4f52-b24d-0476152ad0c8&pd_rd_w=HDjPj&pd_rd_wg=Kidgl&pf_rd_p=1060fc32-cc06-48f1-987d-6b74a57cd8f2&pf_rd_r=WYYFWHRRJKHE9QX59X90&psc=1&refRID=WYYFWHRRJKHE9QX59X90"
   ]
  }
 ],
 "metadata": {
  "kernelspec": {
   "display_name": "Python 3",
   "language": "python",
   "name": "python3"
  },
  "language_info": {
   "codemirror_mode": {
    "name": "ipython",
    "version": 3
   },
   "file_extension": ".py",
   "mimetype": "text/x-python",
   "name": "python",
   "nbconvert_exporter": "python",
   "pygments_lexer": "ipython3",
   "version": "3.7.5"
  }
 },
 "nbformat": 4,
 "nbformat_minor": 4
}
